{
 "cells": [
  {
   "cell_type": "code",
   "execution_count": 67,
   "metadata": {
    "collapsed": true
   },
   "outputs": [],
   "source": [
    "import requests\n",
    "from bs4 import BeautifulSoup\n",
    "\n",
    "competitors  = ['travelers.com', 'progressive.com', 'geico.com', 'allstate.com',\n",
    "                'nationwide.com', 'libertymutual.com','safeco.com']\n",
    "\n",
    "test = ['Insurance']\n",
    "\n",
    "Driving_keywords = ['Texting and driving', 'Distracted Driving', \n",
    "                    'Distracted Driving Awareness Month', 'Distracted Driving Safety', \n",
    "                    'safe driving tips', 'drive safe insurance']\n",
    "            \n",
    "wedding_keywords = ['Hurricane Wedding', 'rain insurance', 'wedding ring insurance',\n",
    "                   'engagement ring insurance', 'wedding dress insurance', \n",
    "                   'wedding insurance']\n",
    "\n",
    "smart_keywords = ['smart home insurance', 'smart home', 'smart home devices',\n",
    "                 'smart home technology', 'smart home security',\n",
    "                 'smart home ideas']\n",
    "\n",
    "boat_keywords = ['boat insurance', 'boat insurance cost', 'boat insurance quote',\n",
    "                'how much is boat insurance', 'yatch insurnace', 'boat']\n",
    "\n",
    "winter_keywords = ['winterize home', \n",
    "                  'Rain insurance', 'weather stripping', 'winterize windows', 'winterize house', \n",
    "                   'pipe insulation', 'winterization']\n",
    "\n",
    "def google_rank_scraper(search):\n",
    "    \n",
    "    google_url = \"https://www.google.com/search?q=\" + search + \"&num=\" + str(100)\n",
    "    response = requests.get(google_url)\n",
    "    soup = BeautifulSoup(response.text, \"html.parser\")\n",
    "\n",
    "    result_div = soup.find_all('div', attrs = {'class': 'ZINbbc'})\n",
    "\n",
    "    links = []\n",
    "    titles = []\n",
    "    descriptions = []\n",
    "    \n",
    "    rank = []\n",
    "    competitor = []\n",
    "    for r in result_div:\n",
    "        # Checks if each element is present, else, raise exception\n",
    "        try:\n",
    "            link = r.find('a', href = True)\n",
    "            title = r.find('div', attrs={'class':'vvjwJb'}).get_text()\n",
    "            description = r.find('div', attrs={'class':'s3v9rd'}).get_text()\n",
    "\n",
    "            # Check to make sure everything is present before appending\n",
    "            if link != '' and title != '' and description != '': \n",
    "                links.append(link['href'])\n",
    "                titles.append(title)\n",
    "                descriptions.append(description)\n",
    "        # Next loop if one element is not present\n",
    "        except:\n",
    "            continue\n",
    "        \n",
    "        \n",
    "    \n",
    "    #find company url ranking in search results\n",
    "    for i in range(0,len(competitors)):\n",
    "        for j in range(0,len(links)):\n",
    "            if competitors[i] in links[j]:\n",
    "                rank.append(competitors[i])\n",
    "                competitor.append(j)\n",
    "    \n",
    "    return zip(rank, competitor)"
   ]
  },
  {
   "cell_type": "code",
   "execution_count": 69,
   "metadata": {},
   "outputs": [
    {
     "name": "stdout",
     "output_type": "stream",
     "text": [
      "Texting and driving\n",
      "[]\n",
      "Distracted Driving\n",
      "[('travelers.com', 24), ('geico.com', 20), ('allstate.com', 93), ('nationwide.com', 41)]\n",
      "Distracted Driving Awareness Month\n",
      "[]\n",
      "Distracted Driving Safety\n",
      "[('travelers.com', 26), ('geico.com', 8)]\n",
      "safe driving tips\n",
      "[('travelers.com', 19), ('progressive.com', 66), ('geico.com', 28), ('allstate.com', 25), ('nationwide.com', 1)]\n",
      "drive safe insurance\n",
      "[('travelers.com', 31), ('travelers.com', 32), ('progressive.com', 24), ('geico.com', 28), ('allstate.com', 6), ('nationwide.com', 10), ('libertymutual.com', 38), ('safeco.com', 26)]\n"
     ]
    }
   ],
   "source": [
    "for search_term in Driving_keywords:\n",
    "    print search_term\n",
    "    print google_rank_scraper(search_term)"
   ]
  },
  {
   "cell_type": "code",
   "execution_count": 70,
   "metadata": {},
   "outputs": [
    {
     "name": "stdout",
     "output_type": "stream",
     "text": [
      "Hurricane Wedding\n",
      "[]\n",
      "rain insurance\n",
      "[('travelers.com', 43)]\n",
      "wedding ring insurance\n",
      "[('travelers.com', 32), ('progressive.com', 0), ('progressive.com', 4), ('geico.com', 6), ('geico.com', 7), ('allstate.com', 8), ('nationwide.com', 33), ('libertymutual.com', 39), ('safeco.com', 95)]\n",
      "engagement ring insurance\n",
      "[('travelers.com', 52), ('progressive.com', 8), ('geico.com', 6), ('geico.com', 7), ('allstate.com', 5), ('nationwide.com', 21), ('libertymutual.com', 49), ('safeco.com', 79)]\n",
      "wedding dress insurance\n",
      "[('travelers.com', 26), ('progressive.com', 6), ('allstate.com', 67), ('nationwide.com', 7)]\n",
      "wedding insurance\n",
      "[('travelers.com', 6), ('travelers.com', 7), ('progressive.com', 5), ('allstate.com', 21), ('nationwide.com', 9)]\n"
     ]
    }
   ],
   "source": [
    "for search_term in wedding_keywords:\n",
    "    print search_term\n",
    "    print google_rank_scraper(search_term)"
   ]
  },
  {
   "cell_type": "code",
   "execution_count": 71,
   "metadata": {},
   "outputs": [
    {
     "name": "stdout",
     "output_type": "stream",
     "text": [
      "smart home insurance\n",
      "[('travelers.com', 2), ('progressive.com', 97), ('allstate.com', 73), ('nationwide.com', 63), ('libertymutual.com', 31), ('safeco.com', 92)]\n",
      "smart home\n",
      "[('travelers.com', 84)]\n",
      "smart home devices\n",
      "[]\n",
      "smart home technology\n",
      "[]\n",
      "smart home security\n",
      "[]\n",
      "smart home ideas\n",
      "[]\n"
     ]
    }
   ],
   "source": [
    "for search_term in smart_keywords:\n",
    "    print search_term\n",
    "    print google_rank_scraper(search_term)"
   ]
  },
  {
   "cell_type": "code",
   "execution_count": 72,
   "metadata": {},
   "outputs": [
    {
     "name": "stdout",
     "output_type": "stream",
     "text": [
      "boat insurance\n",
      "[('travelers.com', 49), ('progressive.com', 1), ('geico.com', 0), ('allstate.com', 2), ('nationwide.com', 4), ('libertymutual.com', 19), ('safeco.com', 11)]\n",
      "boat insurance cost\n",
      "[('travelers.com', 65), ('progressive.com', 4), ('geico.com', 10), ('allstate.com', 19), ('nationwide.com', 2), ('safeco.com', 32)]\n",
      "boat insurance quote\n",
      "[('travelers.com', 33), ('progressive.com', 1), ('geico.com', 0), ('allstate.com', 4), ('nationwide.com', 2), ('libertymutual.com', 21), ('safeco.com', 16)]\n",
      "how much is boat insurance\n",
      "[('travelers.com', 69), ('progressive.com', 6), ('progressive.com', 7), ('geico.com', 13), ('allstate.com', 22), ('nationwide.com', 2), ('libertymutual.com', 29), ('safeco.com', 33)]\n",
      "yatch insurnace\n",
      "[('travelers.com', 3)]\n",
      "boat\n",
      "[('safeco.com', 56)]\n"
     ]
    }
   ],
   "source": [
    "for search_term in boat_keywords:\n",
    "    print search_term\n",
    "    print google_rank_scraper(search_term)"
   ]
  },
  {
   "cell_type": "code",
   "execution_count": null,
   "metadata": {
    "collapsed": true
   },
   "outputs": [],
   "source": []
  }
 ],
 "metadata": {
  "kernelspec": {
   "display_name": "Python 2",
   "language": "python",
   "name": "python2"
  },
  "language_info": {
   "codemirror_mode": {
    "name": "ipython",
    "version": 2
   },
   "file_extension": ".py",
   "mimetype": "text/x-python",
   "name": "python",
   "nbconvert_exporter": "python",
   "pygments_lexer": "ipython2",
   "version": "2.7.13"
  }
 },
 "nbformat": 4,
 "nbformat_minor": 1
}
